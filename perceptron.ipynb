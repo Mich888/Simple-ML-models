{
 "cells": [
  {
   "cell_type": "code",
   "execution_count": 15,
   "metadata": {},
   "outputs": [],
   "source": [
    "import numpy as np\n",
    "import pandas as pd"
   ]
  },
  {
   "cell_type": "code",
   "execution_count": 16,
   "metadata": {},
   "outputs": [],
   "source": [
    "class Perceptron:\n",
    "    weights_learning_rate = 0.05\n",
    "    threshold_learning_rate = 0.02\n",
    "    weights = np.array([1 for i in range(4)])\n",
    "    threshold = 0.5\n",
    "    \n",
    "    def fit(self, observation):\n",
    "        prediction = self.predict(observation[0:4])\n",
    "        correct_answer = int(observation[-1] == 'Setosa')\n",
    "        if prediction != correct_answer: # update parameters\n",
    "            self.weights = self.weights + (correct_answer - int(prediction)) \\\n",
    "            * self.weights_learning_rate * observation[0:-1]\n",
    "            \n",
    "            self.threshold = self.threshold - (correct_answer - int(prediction)) \\\n",
    "            * self.threshold_learning_rate\n",
    "    \n",
    "    def predict(self, observation): # return 1 if setosa and 0 otherwise\n",
    "        return int(np.dot(self.weights, observation) >= self.threshold)\n",
    "    \n",
    "x = Perceptron()"
   ]
  },
  {
   "cell_type": "code",
   "execution_count": 17,
   "metadata": {},
   "outputs": [],
   "source": [
    "iris = pd.read_csv(\"iris.csv\")\n",
    "irisSet = iris.values\n",
    "training_set = iris.values"
   ]
  },
  {
   "cell_type": "code",
   "execution_count": 18,
   "metadata": {},
   "outputs": [],
   "source": [
    "species = training_set[:, -1].reshape(150, 1)\n",
    "species = np.array([element == 'Setosa' for element in species])\n",
    "#training_set = training_set[np.random.randint(training_set.shape[0], size=50), :]"
   ]
  },
  {
   "cell_type": "code",
   "execution_count": 19,
   "metadata": {},
   "outputs": [],
   "source": [
    "def compute_accuracy():\n",
    "    answers = np.array([x.predict(element) for element in irisSet[:, 0:-1]]).reshape(150,1)\n",
    "    correct_answers = np.sum(species == answers)\n",
    "    accuracy = correct_answers / 150 * 100\n",
    "    wrong_answers = irisSet.shape[0] - correct_answers\n",
    "    print(\"weights:\", np.around(x.weights.astype(float), 5))\n",
    "    print(\"threshold:\", np.around(x.threshold, 5))\n",
    "    print(\"accuracy: \", \"%.0f\" % accuracy, '%', sep='')\n",
    "    return wrong_answers"
   ]
  },
  {
   "cell_type": "code",
   "execution_count": 20,
   "metadata": {},
   "outputs": [
    {
     "name": "stdout",
     "output_type": "stream",
     "text": [
      "weights: [1. 1. 1. 1.]\n",
      "threshold: 0.5\n",
      "accuracy: 33%\n"
     ]
    },
    {
     "data": {
      "text/plain": [
       "100"
      ]
     },
     "execution_count": 20,
     "metadata": {},
     "output_type": "execute_result"
    }
   ],
   "source": [
    "compute_accuracy()"
   ]
  },
  {
   "cell_type": "code",
   "execution_count": 21,
   "metadata": {},
   "outputs": [
    {
     "name": "stdout",
     "output_type": "stream",
     "text": [
      "weights: [-0.615  0.27  -0.135  0.64 ]\n",
      "threshold: 0.6\n",
      "accuracy: 67%\n",
      "weights: [-0.465  0.435 -0.23   0.59 ]\n",
      "threshold: 0.58\n",
      "accuracy: 67%\n",
      "weights: [-0.335  0.565 -0.33   0.545]\n",
      "threshold: 0.56\n",
      "accuracy: 67%\n",
      "weights: [-0.43   0.58  -0.495  0.485]\n",
      "threshold: 0.56\n",
      "accuracy: 67%\n",
      "weights: [-0.175  0.755 -0.425  0.495]\n",
      "threshold: 0.54\n",
      "accuracy: 100%\n"
     ]
    }
   ],
   "source": [
    "while (True):\n",
    "    for observation in training_set:\n",
    "        x.fit(observation)\n",
    "    if compute_accuracy() < x.threshold:\n",
    "        break"
   ]
  },
  {
   "cell_type": "code",
   "execution_count": 97,
   "metadata": {},
   "outputs": [
    {
     "data": {
      "text/plain": [
       "0"
      ]
     },
     "execution_count": 97,
     "metadata": {},
     "output_type": "execute_result"
    }
   ],
   "source": [
    "x.predict([6.1, 3.4, 5.3, 2.3])"
   ]
  },
  {
   "cell_type": "code",
   "execution_count": 98,
   "metadata": {},
   "outputs": [
    {
     "data": {
      "text/html": [
       "<div>\n",
       "<style scoped>\n",
       "    .dataframe tbody tr th:only-of-type {\n",
       "        vertical-align: middle;\n",
       "    }\n",
       "\n",
       "    .dataframe tbody tr th {\n",
       "        vertical-align: top;\n",
       "    }\n",
       "\n",
       "    .dataframe thead th {\n",
       "        text-align: right;\n",
       "    }\n",
       "</style>\n",
       "<table border=\"1\" class=\"dataframe\">\n",
       "  <thead>\n",
       "    <tr style=\"text-align: right;\">\n",
       "      <th></th>\n",
       "      <th>sepal.length</th>\n",
       "      <th>sepal.width</th>\n",
       "      <th>petal.length</th>\n",
       "      <th>petal.width</th>\n",
       "      <th>variety</th>\n",
       "    </tr>\n",
       "  </thead>\n",
       "  <tbody>\n",
       "    <tr>\n",
       "      <th>145</th>\n",
       "      <td>6.7</td>\n",
       "      <td>3.0</td>\n",
       "      <td>5.2</td>\n",
       "      <td>2.3</td>\n",
       "      <td>Virginica</td>\n",
       "    </tr>\n",
       "    <tr>\n",
       "      <th>146</th>\n",
       "      <td>6.3</td>\n",
       "      <td>2.5</td>\n",
       "      <td>5.0</td>\n",
       "      <td>1.9</td>\n",
       "      <td>Virginica</td>\n",
       "    </tr>\n",
       "    <tr>\n",
       "      <th>147</th>\n",
       "      <td>6.5</td>\n",
       "      <td>3.0</td>\n",
       "      <td>5.2</td>\n",
       "      <td>2.0</td>\n",
       "      <td>Virginica</td>\n",
       "    </tr>\n",
       "    <tr>\n",
       "      <th>148</th>\n",
       "      <td>6.2</td>\n",
       "      <td>3.4</td>\n",
       "      <td>5.4</td>\n",
       "      <td>2.3</td>\n",
       "      <td>Virginica</td>\n",
       "    </tr>\n",
       "    <tr>\n",
       "      <th>149</th>\n",
       "      <td>5.9</td>\n",
       "      <td>3.0</td>\n",
       "      <td>5.1</td>\n",
       "      <td>1.8</td>\n",
       "      <td>Virginica</td>\n",
       "    </tr>\n",
       "  </tbody>\n",
       "</table>\n",
       "</div>"
      ],
      "text/plain": [
       "     sepal.length  sepal.width  petal.length  petal.width    variety\n",
       "145           6.7          3.0           5.2          2.3  Virginica\n",
       "146           6.3          2.5           5.0          1.9  Virginica\n",
       "147           6.5          3.0           5.2          2.0  Virginica\n",
       "148           6.2          3.4           5.4          2.3  Virginica\n",
       "149           5.9          3.0           5.1          1.8  Virginica"
      ]
     },
     "execution_count": 98,
     "metadata": {},
     "output_type": "execute_result"
    }
   ],
   "source": [
    "iris[-5:]"
   ]
  },
  {
   "cell_type": "code",
   "execution_count": null,
   "metadata": {},
   "outputs": [],
   "source": []
  }
 ],
 "metadata": {
  "kernelspec": {
   "display_name": "Python 3",
   "language": "python",
   "name": "python3"
  },
  "language_info": {
   "codemirror_mode": {
    "name": "ipython",
    "version": 3
   },
   "file_extension": ".py",
   "mimetype": "text/x-python",
   "name": "python",
   "nbconvert_exporter": "python",
   "pygments_lexer": "ipython3",
   "version": "3.6.6"
  }
 },
 "nbformat": 4,
 "nbformat_minor": 2
}
